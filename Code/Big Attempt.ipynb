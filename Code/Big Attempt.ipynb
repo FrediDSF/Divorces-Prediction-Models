{
 "cells": [
  {
   "cell_type": "code",
   "execution_count": 2,
   "id": "3b65c37f-fc88-49cc-bd01-f6a573645de4",
   "metadata": {},
   "outputs": [],
   "source": [
    "import numpy as np # Numerical computation package\n",
    "import pandas as pd # Dataframe package\n",
    "import matplotlib.pyplot as plt # Plotting package\n",
    "from sklearn.linear_model import LinearRegression # OLS\n",
    "from sklearn.model_selection import train_test_split\n",
    "from sklearn.preprocessing import PolynomialFeatures"
   ]
  },
  {
   "cell_type": "code",
   "execution_count": 3,
   "id": "c1ff81c7-b041-4838-9ee0-acdd3ec3caac",
   "metadata": {},
   "outputs": [],
   "source": [
    "df = pd.read_csv(\"https://raw.githubusercontent.com/FrediDSF/Divorces-Prediction-Models/main/Data/CH_Entire/Processed/Features_CH_accumulated_p1k.csv\")"
   ]
  },
  {
   "cell_type": "code",
   "execution_count": 30,
   "id": "b9c8dea3-2a61-4ada-b7dc-177b1306e556",
   "metadata": {},
   "outputs": [],
   "source": [
    "X, y = df[[\"Pre_school_p1k\", \"Primary_school_p1k\", \"Secondary_school_p1k\", \"SP\", \"CVP\", \"SVP\", \"Foreigners_p1k\", \"Cars_p1k\", \"Average_duration_of_marriage_when_divorced\", \"Average_age_when_married\"]], df[\"Divorces_p1k\"] \n",
    "\n",
    "ols1 = LinearRegression() \n",
    "\n",
    "ols1.fit(X, y)\n",
    "\n",
    "df[\"pred\"] = ols1.predict(X)"
   ]
  },
  {
   "cell_type": "code",
   "execution_count": 31,
   "id": "a1374de8-7014-49ea-a437-3cca00dce970",
   "metadata": {},
   "outputs": [],
   "source": [
    "poly2 = PolynomialFeatures(2, include_bias=False) \n",
    "\n",
    "X2 = poly2.fit_transform(X)\n",
    "\n",
    "ols2 = LinearRegression()\n",
    "\n",
    "ols2.fit(X2, y)\n",
    "\n",
    "df[\"pred2\"] = ols2.predict(X2)"
   ]
  },
  {
   "cell_type": "code",
   "execution_count": 32,
   "id": "cc91990e-fc92-4cdf-a4ef-cca8026f551d",
   "metadata": {},
   "outputs": [],
   "source": [
    "n = 2 #change this here!!!!!\n",
    "\n",
    "poly3 = PolynomialFeatures(n, include_bias=False) \n",
    "\n",
    "standardize = lambda x: (x - x.mean()) / x.std()\n",
    "\n",
    "Xs = standardize(X)\n",
    "\n",
    "X3 = poly3.fit_transform(Xs)\n",
    "\n",
    "X3 = np.apply_along_axis(standardize,0, X3)\n",
    "\n",
    "ols3 = LinearRegression()\n",
    "\n",
    "ols3.fit(X3, y)\n",
    "\n",
    "df[\"pred3\"] = ols3.predict(X3)"
   ]
  },
  {
   "cell_type": "code",
   "execution_count": 33,
   "id": "6f1a5824-55e4-469b-a766-24dfc26be299",
   "metadata": {},
   "outputs": [],
   "source": [
    "#now we do cross validation"
   ]
  },
  {
   "cell_type": "code",
   "execution_count": 34,
   "id": "e01b9457-a3ab-4547-961c-275aa4b658b7",
   "metadata": {},
   "outputs": [],
   "source": [
    "Xtrain, Xtest, ytrain, ytest = train_test_split(\n",
    "    X, y, test_size=0.2, random_state=72)"
   ]
  },
  {
   "cell_type": "code",
   "execution_count": 35,
   "id": "8e456306-38ea-49e4-afad-a096da9f20dc",
   "metadata": {},
   "outputs": [],
   "source": [
    "X2train = poly2.fit_transform(Xtrain)\n",
    "X2test = poly2.fit_transform(Xtest)"
   ]
  },
  {
   "cell_type": "code",
   "execution_count": 36,
   "id": "aca8f597-7f9f-4b13-bb13-70a8440d567d",
   "metadata": {},
   "outputs": [],
   "source": [
    "Xtrain_s = standardize(Xtrain)\n",
    "X3train = poly3.fit_transform(Xtrain_s)\n",
    "X3train = np.apply_along_axis(standardize,0, X3train)\n",
    "\n",
    "Xtest_s = standardize(Xtest)\n",
    "X3test = poly3.fit_transform(Xtest_s)\n",
    "X3test = np.apply_along_axis(standardize,0, X3test)"
   ]
  },
  {
   "cell_type": "code",
   "execution_count": 37,
   "id": "37f63a98-cb10-4035-afcb-5369be10d877",
   "metadata": {},
   "outputs": [
    {
     "data": {
      "text/plain": [
       "(378, 10)"
      ]
     },
     "execution_count": 37,
     "metadata": {},
     "output_type": "execute_result"
    }
   ],
   "source": [
    "Xtrain.shape # Display the size of the train set"
   ]
  },
  {
   "cell_type": "code",
   "execution_count": 38,
   "id": "b98390e0-0a22-4333-9cb5-10f7b48ef6eb",
   "metadata": {},
   "outputs": [
    {
     "data": {
      "text/plain": [
       "(95, 10)"
      ]
     },
     "execution_count": 38,
     "metadata": {},
     "output_type": "execute_result"
    }
   ],
   "source": [
    "Xtest.shape # Display the size of the test set"
   ]
  },
  {
   "cell_type": "code",
   "execution_count": 39,
   "id": "1fe4d163-2a22-40b4-aca8-7a53d73f58ad",
   "metadata": {},
   "outputs": [
    {
     "data": {
      "text/plain": [
       "LinearRegression()"
      ]
     },
     "execution_count": 39,
     "metadata": {},
     "output_type": "execute_result"
    }
   ],
   "source": [
    "ols1_t = LinearRegression() \n",
    "# Fit the estimator (⚠️ notice the fit on the train data only ⚠️)\n",
    "ols1_t.fit(Xtrain, ytrain)"
   ]
  },
  {
   "cell_type": "code",
   "execution_count": 40,
   "id": "3ae69cf9-b089-4ee0-bda4-bcd1178f4734",
   "metadata": {},
   "outputs": [
    {
     "data": {
      "text/plain": [
       "LinearRegression()"
      ]
     },
     "execution_count": 40,
     "metadata": {},
     "output_type": "execute_result"
    }
   ],
   "source": [
    "ols2_t = LinearRegression() \n",
    "# Fit the estimator (⚠️ notice the fit on the train data only ⚠️)\n",
    "ols2_t.fit(X2train, ytrain)"
   ]
  },
  {
   "cell_type": "code",
   "execution_count": 41,
   "id": "a91b1fcd-6dfb-43a2-9520-85dc40764737",
   "metadata": {},
   "outputs": [
    {
     "data": {
      "text/plain": [
       "LinearRegression()"
      ]
     },
     "execution_count": 41,
     "metadata": {},
     "output_type": "execute_result"
    }
   ],
   "source": [
    "ols3_t = LinearRegression() \n",
    "# Fit the estimator (⚠️ notice the fit on the train data only ⚠️)\n",
    "ols3_t.fit(X3train, ytrain)"
   ]
  },
  {
   "cell_type": "code",
   "execution_count": 42,
   "id": "10f5ac57-5968-4e37-a116-1ae87d83baf4",
   "metadata": {},
   "outputs": [],
   "source": [
    "# Define some lists to help us compute the metrics\n",
    "model_list = [ols1_t, ols2_t, ols3_t]\n",
    "Xtrain_list = [Xtrain, X2train, X3train]\n",
    "ytrain_list = [ytrain for _ in range(3)]\n",
    "Xtest_list = [Xtest, X2test, X3test]\n",
    "ytest_list = [ytest for _ in range(3)]\n",
    "\n",
    "# # In case you are confused by the lilst comprehensions\n",
    "#print(\"ytrain:\", ytrain)\n",
    "#print(\"\\n\\n List comprehension:\\n\\n\", [ytrain for _ in range(3)])"
   ]
  },
  {
   "cell_type": "code",
   "execution_count": 43,
   "id": "729690cb-f6db-4e11-a05d-552c16c02f71",
   "metadata": {},
   "outputs": [],
   "source": [
    "compute_mse = lambda m, X, y: np.mean((m.predict(X) - y) ** 2)\n",
    "compute_mae = lambda m, X, y: np.mean(np.abs(m.predict(X) - y))\n",
    "compute_r2  = lambda m, X, y: m.score(X, y)"
   ]
  },
  {
   "cell_type": "code",
   "execution_count": 44,
   "id": "673dcffa-9fc9-409e-a124-a971bc96a49f",
   "metadata": {},
   "outputs": [
    {
     "name": "stdout",
     "output_type": "stream",
     "text": [
      "ols1:  {'train': [0.16597208347988665, 0.3002398907514224, 0.37911960804640243], 'test': [0.20876755286395476, 0.3365021636647526, 0.1899049748534688]}\n",
      "\n",
      "ols2:  {'train': [0.10629814091509353, 0.22757917102425326, 0.6023522148331648], 'test': [0.17060228847711836, 0.3016613331102111, 0.3380002625983317]}\n",
      "\n",
      "ols3:  {'train': [0.10629814091509088, 0.22757917102346606, 0.6023522148331746], 'test': [0.22147699466846132, 0.34149362632118924, 0.14058765788070393]}\n"
     ]
    }
   ],
   "source": [
    "ols1_results = {\n",
    "    \"train\": [f(ols1_t, Xtrain, ytrain) for f in [compute_mse, compute_mae, compute_r2]],\n",
    "    \"test\": [f(ols1_t, Xtest, ytest) for f in [compute_mse, compute_mae, compute_r2]]\n",
    "}\n",
    "# OLS with 2 features\n",
    "ols2_results = {\n",
    "    \"train\": [f(ols2_t, X2train, ytrain) for f in [compute_mse, compute_mae, compute_r2]],\n",
    "    \"test\": [f(ols2_t, X2test, ytest) for f in [compute_mse, compute_mae, compute_r2]]\n",
    "}\n",
    "# OLS with multiple features\n",
    "ols3_results = {\n",
    "    \"train\": [f(ols3_t, X3train, ytrain) for f in [compute_mse, compute_mae, compute_r2]],\n",
    "    \"test\": [f(ols3_t, X3test, ytest) for f in [compute_mse, compute_mae, compute_r2]]\n",
    "}\n",
    "\n",
    "# OK, this list comprehensions may feel a little dense, but you see that they are very elegant and practical. Do you understand them?\n",
    "# Here is their output:\n",
    "\n",
    "print(\"ols1: \", ols1_results)\n",
    "print(\"\\nols2: \", ols2_results)\n",
    "print(\"\\nols3: \", ols3_results)"
   ]
  },
  {
   "cell_type": "code",
   "execution_count": 45,
   "id": "d07b194f-5ffa-4770-9e94-0d264cc6f7ba",
   "metadata": {},
   "outputs": [
    {
     "data": {
      "text/plain": [
       "<matplotlib.legend.Legend at 0x7f62d335fbb0>"
      ]
     },
     "execution_count": 45,
     "metadata": {},
     "output_type": "execute_result"
    },
    {
     "data": {
      "image/png": "[encoded data removed]",
      "text/plain": [
       "<Figure size 1296x432 with 3 Axes>"
      ]
     },
     "metadata": {
      "needs_background": "light"
     },
     "output_type": "display_data"
    }
   ],
   "source": [
    "fig, axs = plt.subplots(1, 3, figsize=(18, 6))\n",
    "width = .3 # Bar width\n",
    "for i in range(3):\n",
    "    labs = [f\"OLS {i}\" for i in range(1, 4)] if i == 0 else [\"\" for _ in range(1, 4)]\n",
    "    axs[i].bar(0, ols1_results[\"train\"][i], width, label=labs[0], color=\"grey\")\n",
    "    axs[i].bar(0 + width, ols2_results[\"train\"][i], width, label=labs[1], color=\"black\")\n",
    "    axs[i].bar(0 + 2 * width, ols3_results[\"train\"][i], width, label=labs[2], color=\"blue\")\n",
    "    axs[i].bar(1, ols1_results[\"test\"][i], width, color=\"grey\")\n",
    "    axs[i].bar(1 + width, ols2_results[\"test\"][i], width, color=\"black\")\n",
    "    axs[i].bar(1 + 2 * width, ols3_results[\"test\"][i], width, color=\"blue\")\n",
    "# Plot titles\n",
    "axs[0].set_title(\"Mean Squared Error\")\n",
    "axs[1].set_title(\"Mean Absolute Error\")\n",
    "axs[2].set_title(\"R²\")\n",
    "# Labels and legend\n",
    "for ax in axs:\n",
    "    ax.set_xticks([width, width + 1], [\"Train\", \"Test\"])\n",
    "fig.legend()"
   ]
  },
  {
   "cell_type": "code",
   "execution_count": 46,
   "id": "6a7728fa-c2ad-4769-b1a4-175ad8064336",
   "metadata": {},
   "outputs": [],
   "source": [
    "from sklearn.model_selection import cross_val_score # cross-validation function"
   ]
  },
  {
   "cell_type": "code",
   "execution_count": null,
   "id": "b371ce63-062e-496c-baac-cb8bbd0999e4",
   "metadata": {},
   "outputs": [],
   "source": []
  },
  {
   "cell_type": "code",
   "execution_count": 47,
   "id": "0f8207a2-815e-45f7-8c96-d9490605d15b",
   "metadata": {},
   "outputs": [
    {
     "name": "stdout",
     "output_type": "stream",
     "text": [
      "Cross-validation mean absolute error: 0.31 (± 0.01)\n"
     ]
    }
   ],
   "source": [
    "# cv = 5, implies that we use 5 folds, the function will return \n",
    "# the negative mean absolute error for each fold, so we have to take its \n",
    "# negative value again to obtain the MAE\n",
    "mae_cv = -cross_val_score(ols1_t, Xtrain, ytrain, cv=5, scoring=\"neg_mean_absolute_error\")\n",
    "print(f\"Cross-validation mean absolute error: {np.mean(mae_cv):.2f} (± {np.std(mae_cv)/np.sqrt(5):.2f})\") "
   ]
  },
  {
   "cell_type": "code",
   "execution_count": 48,
   "id": "fb806041-550b-4d58-90d2-42a326957710",
   "metadata": {},
   "outputs": [],
   "source": [
    "# Create lists to keep track of the results\n",
    "mae_mean_list = []\n",
    "mae_se_list = []\n",
    "# Instantiate a LinearRegression model\n",
    "ols_cv = LinearRegression()\n",
    "# Loop over the polynomials\n",
    "for p in range(1, 10):\n",
    "    \n",
    "    # Compute polynomials\n",
    "    poly = PolynomialFeatures(p, include_bias=False)\n",
    "    X_cv = poly.fit_transform(Xtrain_s)\n",
    "    X_cv = np.apply_along_axis(standardize,0, X_cv)\n",
    "    \n",
    "    # Run cross-validation\n",
    "    mae_cv = -cross_val_score(ols_cv, X_cv, ytrain, cv=5, scoring=\"neg_mean_absolute_error\")\n",
    "    \n",
    "    # Store the mean and s.e. of the 5-folds\n",
    "    mae_mean_list.append(np.mean(mae_cv))\n",
    "    mae_se_list.append(np.std(mae_cv) / np.sqrt(5))"
   ]
  },
  {
   "cell_type": "code",
   "execution_count": 49,
   "id": "00dba8d0-bcd9-47d4-bbad-355a1c245898",
   "metadata": {},
   "outputs": [
    {
     "data": {
      "text/plain": [
       "[<matplotlib.axis.XTick at 0x7f62d32094f0>,\n",
       " <matplotlib.axis.XTick at 0x7f62d32094c0>,\n",
       " <matplotlib.axis.XTick at 0x7f62d31f4a00>,\n",
       " <matplotlib.axis.XTick at 0x7f62e3e313d0>,\n",
       " <matplotlib.axis.XTick at 0x7f62e3e317c0>,\n",
       " <matplotlib.axis.XTick at 0x7f62e3e36070>,\n",
       " <matplotlib.axis.XTick at 0x7f62e3e366a0>,\n",
       " <matplotlib.axis.XTick at 0x7f62e3e36df0>,\n",
       " <matplotlib.axis.XTick at 0x7f62e3e3f580>]"
      ]
     },
     "execution_count": 49,
     "metadata": {},
     "output_type": "execute_result"
    },
    {
     "data": {
      "image/png": "[encoded data removed]",
      "text/plain": [
       "<Figure size 864x576 with 1 Axes>"
      ]
     },
     "metadata": {
      "needs_background": "light"
     },
     "output_type": "display_data"
    }
   ],
   "source": [
    "# Plot the results\n",
    "fig, ax = plt.subplots(figsize=(12, 8))\n",
    "# Errorbar plot of mean MAE and standard error of the mean MAE\n",
    "ax.errorbar(range(1, 10), mae_mean_list, yerr=mae_se_list)\n",
    "# Single red dot for best result\n",
    "best = np.argmin(mae_mean_list)\n",
    "ax.scatter(best+1, mae_mean_list[best], color=\"red\", s=100, label=\"Best\")\n",
    "# Add labels, ticks, legend, grid\n",
    "ax.set_xlabel(\"Number of polynomials\")\n",
    "ax.set_ylabel(\"Mean CV MAE\")\n",
    "ax.legend()\n",
    "ax.grid(True)\n",
    "ax.set_xticks(range(1, 10), range(1, 10))"
   ]
  },
  {
   "cell_type": "code",
   "execution_count": 50,
   "id": "b7d4e110-afd0-4aca-954f-85346cdce98a",
   "metadata": {},
   "outputs": [
    {
     "name": "stdout",
     "output_type": "stream",
     "text": [
      "ols_best_results: train:  [0.10629814091509088, 0.22757917102346606, 0.6023522148331746]\n",
      "\n",
      "ols_best_results: test:  [0.22147699466846132, 0.34149362632118924, 0.14058765788070393]\n"
     ]
    }
   ],
   "source": [
    "# Define model\n",
    "ols_best = LinearRegression()\n",
    "# Compute polynomials\n",
    "poly_best = PolynomialFeatures(2, include_bias=False)\n",
    "\n",
    "Xtrain_best = poly_best.fit_transform(Xtrain_s)\n",
    "Xtrain_best = np.apply_along_axis(standardize,0, Xtrain_best)\n",
    "\n",
    "Xtest_best = poly_best.fit_transform(Xtest_s)\n",
    "Xtest_best = np.apply_along_axis(standardize,0, Xtest_best)\n",
    "\n",
    "# Fit model\n",
    "ols_best.fit(Xtrain_best, ytrain)\n",
    "# OLS with 9 features\n",
    "ols_best_results = {\n",
    "    \"train\": [f(ols_best, Xtrain_best, ytrain) for f in [compute_mse, compute_mae, compute_r2]],\n",
    "    \"test\": [f(ols_best, Xtest_best, ytest) for f in [compute_mse, compute_mae, compute_r2]]\n",
    "}\n",
    "\n",
    "print(\"ols_best_results: train: \", ols_best_results[\"train\"])\n",
    "print(\"\\nols_best_results: test: \", ols_best_results[\"test\"])"
   ]
  },
  {
   "cell_type": "code",
   "execution_count": null,
   "id": "f069d862-3f27-47c5-95ed-d2ac06235aed",
   "metadata": {},
   "outputs": [],
   "source": []
  },
  {
   "cell_type": "code",
   "execution_count": null,
   "id": "6bede801-6607-4a70-a2a9-e8d9c83283d3",
   "metadata": {},
   "outputs": [],
   "source": []
  },
  {
   "cell_type": "code",
   "execution_count": null,
   "id": "0df70e22-1cfc-4b40-9b51-7b702e5b04e7",
   "metadata": {},
   "outputs": [],
   "source": []
  },
  {
   "cell_type": "code",
   "execution_count": null,
   "id": "cbec733b-2208-4a2e-93db-77ed64e2fef9",
   "metadata": {},
   "outputs": [],
   "source": []
  }
 ],
 "metadata": {
  "kernelspec": {
   "display_name": "Python 3 (ipykernel)",
   "language": "python",
   "name": "python3"
  },
  "language_info": {
   "codemirror_mode": {
    "name": "ipython",
    "version": 3
   },
   "file_extension": ".py",
   "mimetype": "text/x-python",
   "name": "python",
   "nbconvert_exporter": "python",
   "pygments_lexer": "ipython3",
   "version": "3.8.13"
  }
 },
 "nbformat": 4,
 "nbformat_minor": 5
}
